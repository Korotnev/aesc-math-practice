{
 "cells": [
  {
   "cell_type": "markdown",
   "metadata": {},
   "source": [
    "#### Все привет!\n",
    "\n",
    "Это первое домашнее задание нового образца, немного припозднившееся!\n",
    "\n",
    "Попробуйте его сделать к уроку по математическому практикуму!\n",
    "\n",
    "Внимание! \n",
    "\n",
    "Если что-то не получатся, то стоит попробовать загуглить.\n",
    "\n",
    "Если снова не получается, то очень рекомендуется прибегать к коллективной помощи.\n",
    "\n",
    "Если и так не получается, то можнно написать мне letlevin@gmail.com, попробую помочь!\n",
    "\n",
    "В ДЗ 5 заданий + имеются со * -ой.\n",
    "\n",
    "Решением Вашего домашнего здания будет тетрадка-файл .ipynb с выполненными клетками заданий == модифицированный этот файл.\n",
    "\n",
    "Его можно прислать мне на почту или показать на уроке на своем ПК.\n"
   ]
  },
  {
   "cell_type": "markdown",
   "metadata": {},
   "source": [
    "## Шаг 0.\n",
    "\n",
    "Нам потребуется python > 3.4\n",
    "\n",
    "Также необходимо установить Jupyter Notebook.\n",
    "\n",
    "У меня система не Windows и я давно не пользовался чем-то отличным от Unix.\n",
    "\n",
    "Поэтому понимаю, как нужно установить все это для Linux или Macos.\n",
    "\n",
    "https://jupyter.org/install\n",
    "\n",
    "    python3 -m pip install --upgrade pip\n",
    "    python3 -m pip install jupyter\n",
    "    jupyter notebook\n",
    "    \n",
    "    \n",
    "\n",
    "#### Для Windows \n",
    "\n",
    "можно попробовать посмотреть эту инструкцию или поискать еще что-то\n",
    "\n",
    "https://openfablab.org/play/default/showtask/196\n",
    "\n",
    "Вы справитесь, я верю!\n"
   ]
  },
  {
   "cell_type": "markdown",
   "metadata": {},
   "source": [
    "### Task 1.0\n",
    "\n",
    "В теетрадке нужно выполнить следующее сложение\n",
    "\n",
    "Вополняется наажтием Shift + Enter\n",
    "\n",
    "Ниже получится вывод этого сложения\n",
    "\n",
    "Это первое задание."
   ]
  },
  {
   "cell_type": "code",
   "execution_count": 100,
   "metadata": {
    "scrolled": true
   },
   "outputs": [
    {
     "name": "stdout",
     "output_type": "stream",
     "text": [
      "2039\n"
     ]
    }
   ],
   "source": [
    "# Пример task 1.1\n",
    "\n",
    "year = 2019\n",
    "my_class_number = 20\n",
    "\n",
    "x = year + my_class_number\n",
    "print(x)"
   ]
  },
  {
   "cell_type": "code",
   "execution_count": null,
   "metadata": {},
   "outputs": [],
   "source": [
    "# Ваш код Task 1.1\n",
    "\n",
    "\n",
    "\n",
    "\n",
    "\n",
    "\n",
    "\n"
   ]
  },
  {
   "cell_type": "markdown",
   "metadata": {},
   "source": [
    "По вопросам языка python можно смотреть здесь или гуглить\n",
    "\n",
    "https://pythonworld.ru/samouchitel-python\n",
    "    "
   ]
  },
  {
   "cell_type": "markdown",
   "metadata": {},
   "source": [
    "Если получилось на прошлом шаге, то супер!\n",
    "\n",
    "Идем дальше.\n",
    "\n",
    "Существует замечательная бибилиотека \n",
    "https://matplotlib.org/\n",
    "\n",
    "Она обладает очень хорошими возможностями по визуализации данных \n",
    "\n",
    "Для ее использования нам потребуется ее установка \n",
    "\n",
    "    matplotlib\n",
    "    \n",
    "и также потребуется библиотека \n",
    "    \n",
    "    numpy\n",
    "    "
   ]
  },
  {
   "cell_type": "markdown",
   "metadata": {},
   "source": [
    "### Task 1.1.\n",
    "\n",
    "Пример ниже рисует функцию sqrt(x) красного цвета в области [0,5]\n",
    "Вам нужно модифицировать этот код для рисования Вашей функции Вашим цветом.\n",
    "\n",
    "Как узнать, какую функцию Вам нарисовать?\n",
    "\n",
    "Клетка ниже определяет это, если изменить переменную\n",
    "\n",
    "my_num_in_class_list = 20\n",
    "\n",
    "и выполнить сожержимое клетки\n",
    "\n",
    "Информацию о записе математических функций можно найти на странице\n",
    "https://docs.scipy.org/doc/numpy-1.13.0/reference/routines.math.html\n",
    "\n",
    "! Учитывайте область определения функций.\n",
    "Ниже представлен пример, когда в области < 0 нет значений x из R!.\n",
    "\n",
    "\n",
    "\n",
    "\n"
   ]
  },
  {
   "cell_type": "code",
   "execution_count": 107,
   "metadata": {
    "scrolled": false
   },
   "outputs": [
    {
     "data": {
      "image/png": "[encoded data removed]",
      "text/plain": [
       "<Figure size 432x288 with 1 Axes>"
      ]
     },
     "metadata": {
      "needs_background": "light"
     },
     "output_type": "display_data"
    }
   ],
   "source": [
    "# Пример Task 1.1\n",
    "\n",
    "import matplotlib.pyplot as plt\n",
    "import numpy as np\n",
    "\n",
    "x = np.linspace(0, 5)\n",
    "\n",
    "plt.plot(x, np.sqrt(x), color = 'red')\n",
    "plt.title('sqrt(x)')\n",
    "\n",
    "\n",
    "plt.grid(True)\n",
    "plt.show()"
   ]
  },
  {
   "cell_type": "code",
   "execution_count": 108,
   "metadata": {},
   "outputs": [
    {
     "name": "stdout",
     "output_type": "stream",
     "text": [
      "Андрей Левин , your function and color: \n",
      " e^(x) \n",
      " magenta\n"
     ]
    }
   ],
   "source": [
    "# Получение данных о Вашей функции\n",
    "\n",
    "my_num_in_class_list = 20\n",
    "\n",
    "\n",
    "students = [\n",
    "    [1, 'Васючков Даниил'],\n",
    "    [2, 'Вихлянцев Константин'],\n",
    "    [3, 'Гавриленко Роман'],\n",
    "    [4, 'Дронова Екатерина'],\n",
    "    [5, 'Илюхин Глеб'],\n",
    "    [6, 'Исаченко Богдан'],\n",
    "    [7, 'Кожуханцев Александр'],\n",
    "    [8, 'Коротнев Вячеслав'],\n",
    "    [9, 'Кудряшов Александр'],\n",
    "    [10, 'Куликов Андрей'],\n",
    "    [11, 'Куруц Алексей'],\n",
    "    [12, 'Лазарев Владислав'],\n",
    "    [13, 'Лычагин Владимир'],\n",
    "    [14, 'Мифтахова Алсу'],\n",
    "    [15, 'Муксунов Владислав'],\n",
    "    [16, 'Пастухов Арсений'],\n",
    "    [17, 'Петров Егор'],\n",
    "    [18, 'Чиркова Юлия'],\n",
    "    [19, 'Шакиров Тимур'],\n",
    "    [20, 'Левин Андрей'],\n",
    "]\n",
    "\n",
    "functions = [\n",
    "    'cos(x)',\n",
    "    '1/x',\n",
    "    'x^3',\n",
    "    'log_2(x)',\n",
    "    'e^(x)',\n",
    "    'tg(x)',\n",
    "    'fabs(x)',\n",
    "    'sqrt(x)'\n",
    "]\n",
    "\n",
    "colors = [\n",
    "    'magenta',\n",
    "    'blue',\n",
    "    'yellow',\n",
    "    'black',\n",
    "    'green',\n",
    "]\n",
    "\n",
    "\n",
    "second_name, first_name = students[my_num_in_class_list - 1][1].split()\n",
    "\n",
    "my_function = hash(first_name) % len(functions)\n",
    "my_color = hash(second_name) % len(colors)\n",
    "\n",
    "print(first_name, second_name, \", your function and color: \\n\", functions[my_function], \"\\n\", colors[my_color])\n"
   ]
  },
  {
   "cell_type": "code",
   "execution_count": 109,
   "metadata": {},
   "outputs": [],
   "source": [
    "#  Ваш код  Task 1.1.\n",
    "\n",
    "\n",
    "\n",
    "\n",
    "\n",
    "\n"
   ]
  },
  {
   "cell_type": "markdown",
   "metadata": {},
   "source": [
    "### Task 1.2.\n",
    "К первой функции добавить на рисунок другую функцию, другого цвета\n"
   ]
  },
  {
   "cell_type": "code",
   "execution_count": 110,
   "metadata": {},
   "outputs": [
    {
     "name": "stdout",
     "output_type": "stream",
     "text": [
      "fabs(x)\n"
     ]
    }
   ],
   "source": [
    "# Получение Вашей второй функции\n",
    "\n",
    "your_second_function = (my_function + 2) % len(functions)\n",
    "\n",
    "print(functions[your_second_function])"
   ]
  },
  {
   "cell_type": "code",
   "execution_count": 111,
   "metadata": {},
   "outputs": [
    {
     "name": "stderr",
     "output_type": "stream",
     "text": [
      "/usr/local/lib/python3.7/site-packages/ipykernel_launcher.py:8: RuntimeWarning: invalid value encountered in sqrt\n",
      "  \n"
     ]
    },
    {
     "data": {
      "image/png": "[encoded data removed]",
      "text/plain": [
       "<Figure size 432x288 with 1 Axes>"
      ]
     },
     "metadata": {
      "needs_background": "light"
     },
     "output_type": "display_data"
    }
   ],
   "source": [
    "# Example code task 1.1\n",
    "\n",
    "import matplotlib.pyplot as plt\n",
    "import numpy as np\n",
    "\n",
    "x = np.linspace(-3, 3)\n",
    "\n",
    "plt.plot(x, np.sqrt(x), color = 'red')\n",
    "plt.plot(x, 1/x, color = 'green')\n",
    "plt.title('sqrt(x), 1/x')\n",
    "plt.grid(True)\n",
    "plt.show()"
   ]
  },
  {
   "cell_type": "code",
   "execution_count": null,
   "metadata": {},
   "outputs": [],
   "source": [
    "#  Ваш код Task 1.2:\n",
    "\n",
    "\n",
    "\n",
    "\n",
    "\n",
    "\n",
    "\n",
    "\n",
    "\n",
    "\n"
   ]
  },
  {
   "cell_type": "markdown",
   "metadata": {},
   "source": [
    "### Task 1.3\n",
    "Для сложных функций построить также графики, проанализировать особеннные точки этих графиков\n",
    "\n",
    "Параметр а указан рядом\n"
   ]
  },
  {
   "cell_type": "code",
   "execution_count": 112,
   "metadata": {},
   "outputs": [
    {
     "name": "stdout",
     "output_type": "stream",
     "text": [
      "x/(sin(x^a)) , a =  1\n"
     ]
    }
   ],
   "source": [
    "# Get your 3-th function\n",
    "\n",
    "\n",
    "hard_functions = [\n",
    "    ['x/(x + 2)^a', 3],\n",
    "    ['x/(sin(x^a))', 1],\n",
    "    ['ln(x^2 / ((x+1)(x-a) ))', 2],\n",
    "    ['(-1)^fabs(x^a)', 2],\n",
    "    ['sqrt((1 - cos(Pi*x)) / (a - x^2))', 4],\n",
    "    ['1 / (a - e^(x/(1-x)))' , 1],\n",
    "    ['(1/a) * e^(-((x+2)^2) / (2a^2))', 1],\n",
    "]\n",
    "\n",
    "\n",
    "\n",
    "your_third_function = (my_function + 2 + hash(first_name) + hash(second_name)) % len(hard_functions)\n",
    "\n",
    "print(hard_functions[your_third_function][0], ', a = ', hard_functions[your_third_function][1])"
   ]
  },
  {
   "cell_type": "code",
   "execution_count": 31,
   "metadata": {
    "scrolled": true
   },
   "outputs": [
    {
     "name": "stderr",
     "output_type": "stream",
     "text": [
      "/usr/local/lib/python3.7/site-packages/ipykernel_launcher.py:7: RuntimeWarning: divide by zero encountered in log\n",
      "  import sys\n",
      "/usr/local/lib/python3.7/site-packages/ipykernel_launcher.py:7: RuntimeWarning: invalid value encountered in multiply\n",
      "  import sys\n"
     ]
    },
    {
     "data": {
      "image/png": "[encoded data removed]",
      "text/plain": [
       "<Figure size 432x288 with 1 Axes>"
      ]
     },
     "metadata": {
      "needs_background": "light"
     },
     "output_type": "display_data"
    }
   ],
   "source": [
    "# Example code task 1.1\n",
    "\n",
    "import matplotlib.pyplot as plt\n",
    "import numpy as np\n",
    "\n",
    "x = np.linspace(0, 100)\n",
    "plt.plot(x, x * np.log(x) / ((x + 2)*(x + 2)))\n",
    "plt.grid(True)\n",
    "\n",
    "plt.show()"
   ]
  },
  {
   "cell_type": "code",
   "execution_count": null,
   "metadata": {},
   "outputs": [],
   "source": [
    "#  Task 1.3. Your code here:\n",
    "\n",
    "\n",
    "\n",
    "\n",
    "\n",
    "\n",
    "\n",
    "\n",
    "\n",
    "\n",
    "\n",
    "\n",
    "\n"
   ]
  },
  {
   "cell_type": "markdown",
   "metadata": {},
   "source": [
    "#### Сюда написать информацию об этих особых точках или все, что  можно сказать об этом графике:\n",
    "\n",
    "Описание графика\n",
    "\n",
    "\n",
    "\n"
   ]
  },
  {
   "cell_type": "markdown",
   "metadata": {},
   "source": [
    "## Task 1.4. Визуализация данных\n",
    "\n",
    "Рассмотрим некоторые данные и визализируем их на графике\n",
    "\n",
    "Будем изучать население своего региона России.\n",
    "\n",
    "Для примера рассмотрим население республики Крым.\n",
    "\n",
    "Эти данные можно найти на страницах википедии\n",
    "\n",
    "https://ru.wikipedia.org/wiki/%D0%9D%D0%B0%D1%81%D0%B5%D0%BB%D0%B5%D0%BD%D0%B8%D0%B5_%D0%9A%D1%80%D1%8B%D0%BC%D0%B0\n",
    "\n",
    "\n",
    "Возьмем 5 любых показателей за разные годы.\n",
    "\n",
    "\n",
    "Задание: найти данные по Вашему региону и сделать также.\n"
   ]
  },
  {
   "cell_type": "code",
   "execution_count": 82,
   "metadata": {},
   "outputs": [
    {
     "data": {
      "image/png": "[encoded data removed]",
      "text/plain": [
       "<Figure size 432x288 with 1 Axes>"
      ]
     },
     "metadata": {
      "needs_background": "light"
     },
     "output_type": "display_data"
    }
   ],
   "source": [
    "\n",
    "# Данные\n",
    "\n",
    "data = {\n",
    "    1926: 639300,\n",
    "    1939: 1017325,\n",
    "    1995: 2175800,\n",
    "    2009: 1958500,\n",
    "    2018: 1913731,\n",
    "}\n",
    "\n",
    "# Подготовка данных\n",
    "names = list(data.keys())\n",
    "values = list(data.values())\n",
    "\n",
    "\n",
    "# Отрисовка данных\n",
    "plt.figure()\n",
    "plt.plot(names, values)\n",
    "plt.scatter(names, values, color='red')\n",
    "plt.suptitle('Население Республики Крым по годам')\n",
    "plt.xlabel('время')\n",
    "plt.ylabel('население, млн. человек')\n",
    "plt.show()"
   ]
  },
  {
   "cell_type": "code",
   "execution_count": null,
   "metadata": {},
   "outputs": [],
   "source": [
    "#  Task 1.4. Your code here:\n",
    "\n",
    "\n",
    "\n"
   ]
  },
  {
   "cell_type": "markdown",
   "metadata": {},
   "source": [
    "### Task 1.5 Получение настоящих данных и их анализ \n",
    "\n",
    "Мы будем изучать население городов родных для Вас субъектов.\n",
    "\n",
    "Я для примера буду использвоать регион Крым. \n",
    "\n",
    "Иначе будет не так интересно приводит в качестве примера Москву,где я родился(\n",
    "\n",
    "Поэтому Крым.\n",
    "\n",
    "Мы будем использовать данные, подготовленные скрипту из репозитория https://github.com/pensnarik/russian-cities/blob/master/parse.py\n",
    "\n",
    "Данные взяты из википедии \n",
    "\n",
    "https://ru.wikipedia.org/wiki/Список_городов_России\n",
    "\n",
    "Каждый может легко это повторить\n",
    "\n",
    "Итак, \n",
    "\n",
    "\n",
    "В первой клетке мы скачаивем подготовленные данные.\n",
    "\n",
    "Затем необходимо указать ваш регион.\n",
    "\n",
    "Список регионов прикладываю для удобства\n",
    "\n",
    "\n",
    "            Адыгея\n",
    "            Алтай\n",
    "            Алтайский край\n",
    "            Амурская область\n",
    "            Архангельская область\n",
    "            Астраханская область\n",
    "            Башкортостан\n",
    "            Белгородская область\n",
    "            Брянская область\n",
    "            Бурятия\n",
    "            Владимирская область\n",
    "            Волгоградская область\n",
    "            Вологодская область\n",
    "            Воронежская область\n",
    "            Дагестан\n",
    "            Еврейская АО\n",
    "            Забайкальский край\n",
    "            Ивановская область\n",
    "            Ингушетия\n",
    "            Иркутская область\n",
    "            Кабардино-Балкария\n",
    "            Калининградская область\n",
    "            Калмыкия\n",
    "            Калужская область\n",
    "            Камчатский край\n",
    "            Карачаево-Черкесия\n",
    "            Карелия\n",
    "            Кемеровская область\n",
    "            Кировская область\n",
    "            Коми\n",
    "            Костромская область\n",
    "            Краснодарский край\n",
    "            Красноярский край\n",
    "            Крым\n",
    "            Курганская область\n",
    "            Курская область\n",
    "            Ленинградская область\n",
    "            Липецкая область\n",
    "            Магаданская область\n",
    "            Марий Эл\n",
    "            Мордовия\n",
    "            Москва\n",
    "            Московская область\n",
    "            Мурманская область\n",
    "            Ненецкий АО\n",
    "            Нижегородская область\n",
    "            Новгородская область\n",
    "            Новосибирская область\n",
    "            Омская область\n",
    "            Оренбургская область\n",
    "            Орловская область\n",
    "            Пензенская область\n",
    "            Пермский край\n",
    "            Приморский край\n",
    "            Псковская область\n",
    "            Ростовская область\n",
    "            Рязанская область\n",
    "            Самарская область\n",
    "            Санкт-Петербург\n",
    "            Саратовская область\n",
    "            Сахалинская область\n",
    "            Свердловская область\n",
    "            Севастополь\n",
    "            Северная Осетия — Алания\n",
    "            Смоленская область\n",
    "            Ставропольский край\n",
    "            Тамбовская область\n",
    "            Татарстан\n",
    "            Тверская область\n",
    "            Томская область\n",
    "            Тульская область\n",
    "            Тыва\n",
    "            Тюменская область\n",
    "            Удмуртия\n",
    "            Ульяновская область\n",
    "            Хабаровский край\n",
    "            Хакасия\n",
    "            Ханты-Мансийский АО — Югра\n",
    "            Челябинская область\n",
    "            Чечня\n",
    "            Чувашия\n",
    "            Чукотский АО\n",
    "            Якутия\n",
    "            Ямало-Ненецкий АО\n",
    "            Ярославская область\n",
    "            \n",
    "            \n",
    " .\n"
   ]
  },
  {
   "cell_type": "code",
   "execution_count": 13,
   "metadata": {
    "scrolled": true
   },
   "outputs": [],
   "source": [
    "# -*- coding: utf-8 -*-\n",
    "\n",
    "#!/usr/bin/env python\n",
    "import requests  # pip install requests\n",
    "\n",
    "url = u'https://raw.githubusercontent.com/pensnarik/russian-cities/master/russian-cities.json'\n",
    "\n",
    "json_data = requests.get(url).json()\n"
   ]
  },
  {
   "cell_type": "code",
   "execution_count": 14,
   "metadata": {
    "scrolled": true
   },
   "outputs": [
    {
     "name": "stdout",
     "output_type": "stream",
     "text": [
      "\n",
      "\n",
      " Наши полученные даннные по субъекту такие:\n",
      "[{'coords': {'lat': '44.41972', 'lon': '34.04306'}, 'district': 'Южный', 'name': 'Алупка', 'population': 7771, 'subject': 'Крым'}, {'coords': {'lat': '44.66722', 'lon': '34.39778'}, 'district': 'Южный', 'name': 'Алушта', 'population': 29078, 'subject': 'Крым'}, {'coords': {'lat': '46.10694', 'lon': '33.69306'}, 'district': 'Южный', 'name': 'Армянск', 'population': 21987, 'subject': 'Крым'}, {'coords': {'lat': '44.75278', 'lon': '33.86083'}, 'district': 'Южный', 'name': 'Бахчисарай', 'population': 27448, 'subject': 'Крым'}, {'coords': {'lat': '45.05444', 'lon': '34.60222'}, 'district': 'Южный', 'name': 'Белогорск', 'population': 16354, 'subject': 'Крым'}, {'coords': {'lat': '45.70861', 'lon': '34.39333'}, 'district': 'Южный', 'name': 'Джанкой', 'population': 38622, 'subject': 'Крым'}, {'coords': {'lat': '45.2', 'lon': '33.35833'}, 'district': 'Южный', 'name': 'Евпатория', 'population': 105719, 'subject': 'Крым'}, {'coords': {'lat': '45.33861', 'lon': '36.46806'}, 'district': 'Южный', 'name': 'Керчь', 'population': 147033, 'subject': 'Крым'}, {'coords': {'lat': '45.955306', 'lon': '33.795'}, 'district': 'Южный', 'name': 'Красноперекопск', 'population': 26268, 'subject': 'Крым'}, {'coords': {'lat': '45.13361', 'lon': '33.57722'}, 'district': 'Южный', 'name': 'Саки', 'population': 25146, 'subject': 'Крым'}, {'coords': {'lat': '44.94806', 'lon': '34.10417'}, 'district': 'Южный', 'name': 'Симферополь', 'population': 332317, 'subject': 'Крым'}, {'coords': {'lat': '45.02917', 'lon': '35.08861'}, 'district': 'Южный', 'name': 'Старый Крым', 'population': 9277, 'subject': 'Крым'}, {'coords': {'lat': '44.85139', 'lon': '34.9725'}, 'district': 'Южный', 'name': 'Судак', 'population': 16492, 'subject': 'Крым'}, {'coords': {'lat': '45.04889', 'lon': '35.37917'}, 'district': 'Южный', 'name': 'Феодосия', 'population': 69038, 'subject': 'Крым'}, {'coords': {'lat': '45.42361', 'lon': '35.81861'}, 'district': 'Южный', 'name': 'Щёлкино', 'population': 10620, 'subject': 'Крым'}, {'coords': {'lat': '44.49944', 'lon': '34.15528'}, 'district': 'Южный', 'name': 'Ялта', 'population': 76746, 'subject': 'Крым'}]\n",
      "\n",
      "\n",
      " Мы подготовили два списка\n",
      "['Алупка', 'Алушта', 'Армянск', 'Бахчисарай', 'Белогорск', 'Джанкой', 'Евпатория', 'Керчь', 'Красноперекопск', 'Саки', 'Симферополь', 'Старый Крым', 'Судак', 'Феодосия', 'Щёлкино', 'Ялта'] [7771, 29078, 21987, 27448, 16354, 38622, 105719, 147033, 26268, 25146, 332317, 9277, 16492, 69038, 10620, 76746]\n"
     ]
    }
   ],
   "source": [
    "# Example Task 1.5\n",
    "\n",
    "your_subject = 'Крым'\n",
    "\n",
    "\n",
    "def get_all_cities_of_this_subject(subject):\n",
    "    data_s = []\n",
    "    for item in json_data:\n",
    "        if item['subject'] != subject:\n",
    "            continue\n",
    "        data_s.append(item)\n",
    "    return data_s\n",
    "\n",
    "\n",
    "\n",
    "data = get_all_cities_of_this_subject(your_subject)\n",
    "\n",
    "# Показ структуры полученных данных\n",
    "print(\"\\n\\n Наши полученные даннные по субъекту такие:\")\n",
    "print(data)\n",
    "\n",
    "\n",
    "# Подготовка данных для отрисовки\n",
    "\n",
    "cities = []\n",
    "population = []\n",
    "\n",
    "for city in data:\n",
    "    cities.append(city['name'])\n",
    "    population.append(city['population'])\n",
    "    \n",
    "    \n",
    "print(\"\\n\\n Мы подготовили два списка\")\n",
    "print(cities, population)\n",
    "    \n"
   ]
  },
  {
   "cell_type": "code",
   "execution_count": 15,
   "metadata": {},
   "outputs": [
    {
     "data": {
      "image/png": "[encoded data removed]",
      "text/plain": [
       "<Figure size 432x288 with 1 Axes>"
      ]
     },
     "metadata": {
      "needs_background": "light"
     },
     "output_type": "display_data"
    },
    {
     "data": {
      "image/png": "[encoded data removed]",
      "text/plain": [
       "<Figure size 432x288 with 1 Axes>"
      ]
     },
     "metadata": {
      "needs_background": "light"
     },
     "output_type": "display_data"
    }
   ],
   "source": [
    "# Нарисуем\n",
    "\n",
    "plt.bar(cities, population, align='center')\n",
    "plt.show()\n",
    "\n",
    "# Попробуем поменять месатми оси\n",
    "\n",
    "plt.barh(cities, population, align='center')\n",
    "plt.show()"
   ]
  },
  {
   "cell_type": "code",
   "execution_count": null,
   "metadata": {},
   "outputs": [],
   "source": [
    "# Your code here Task 1.5\n",
    "\n",
    "\n",
    "\n",
    "\n",
    "\n",
    "\n",
    "\n",
    "\n"
   ]
  },
  {
   "cell_type": "markdown",
   "metadata": {},
   "source": [
    "### Какие выводы можно сделать о населении Вашего региона?\n",
    "\n",
    "Опишите их ниже: "
   ]
  },
  {
   "cell_type": "markdown",
   "metadata": {},
   "source": [
    "Выводы о населении региона: \n",
    "\n",
    "\n",
    "\n",
    "\n",
    "\n",
    "\n",
    "\n",
    "\n",
    "\n",
    "\n",
    "\n"
   ]
  },
  {
   "cell_type": "markdown",
   "metadata": {},
   "source": [
    "### Task 1.6. Попробуем обозначить наши города на карте, \n",
    "\n",
    "использую данные из уже полученной переменной data\n",
    "\n",
    "\n",
    "Для визуализации потребуется пакет mplleaflet. \n",
    "\n",
    "Установить его можно также командой\n",
    "        \n",
    "        pip install mplleaflet\n",
    "\n",
    "\n"
   ]
  },
  {
   "cell_type": "code",
   "execution_count": 24,
   "metadata": {},
   "outputs": [
    {
     "name": "stdout",
     "output_type": "stream",
     "text": [
      "[{'coords': {'lat': '44.41972', 'lon': '34.04306'}, 'district': 'Южный', 'name': 'Алупка', 'population': 7771, 'subject': 'Крым'}, {'coords': {'lat': '44.66722', 'lon': '34.39778'}, 'district': 'Южный', 'name': 'Алушта', 'population': 29078, 'subject': 'Крым'}, {'coords': {'lat': '46.10694', 'lon': '33.69306'}, 'district': 'Южный', 'name': 'Армянск', 'population': 21987, 'subject': 'Крым'}, {'coords': {'lat': '44.75278', 'lon': '33.86083'}, 'district': 'Южный', 'name': 'Бахчисарай', 'population': 27448, 'subject': 'Крым'}, {'coords': {'lat': '45.05444', 'lon': '34.60222'}, 'district': 'Южный', 'name': 'Белогорск', 'population': 16354, 'subject': 'Крым'}, {'coords': {'lat': '45.70861', 'lon': '34.39333'}, 'district': 'Южный', 'name': 'Джанкой', 'population': 38622, 'subject': 'Крым'}, {'coords': {'lat': '45.2', 'lon': '33.35833'}, 'district': 'Южный', 'name': 'Евпатория', 'population': 105719, 'subject': 'Крым'}, {'coords': {'lat': '45.33861', 'lon': '36.46806'}, 'district': 'Южный', 'name': 'Керчь', 'population': 147033, 'subject': 'Крым'}, {'coords': {'lat': '45.955306', 'lon': '33.795'}, 'district': 'Южный', 'name': 'Красноперекопск', 'population': 26268, 'subject': 'Крым'}, {'coords': {'lat': '45.13361', 'lon': '33.57722'}, 'district': 'Южный', 'name': 'Саки', 'population': 25146, 'subject': 'Крым'}, {'coords': {'lat': '44.94806', 'lon': '34.10417'}, 'district': 'Южный', 'name': 'Симферополь', 'population': 332317, 'subject': 'Крым'}, {'coords': {'lat': '45.02917', 'lon': '35.08861'}, 'district': 'Южный', 'name': 'Старый Крым', 'population': 9277, 'subject': 'Крым'}, {'coords': {'lat': '44.85139', 'lon': '34.9725'}, 'district': 'Южный', 'name': 'Судак', 'population': 16492, 'subject': 'Крым'}, {'coords': {'lat': '45.04889', 'lon': '35.37917'}, 'district': 'Южный', 'name': 'Феодосия', 'population': 69038, 'subject': 'Крым'}, {'coords': {'lat': '45.42361', 'lon': '35.81861'}, 'district': 'Южный', 'name': 'Щёлкино', 'population': 10620, 'subject': 'Крым'}, {'coords': {'lat': '44.49944', 'lon': '34.15528'}, 'district': 'Южный', 'name': 'Ялта', 'population': 76746, 'subject': 'Крым'}]\n",
      "[34.04306, 34.39778, 33.69306, 33.86083, 34.60222, 34.39333, 33.35833, 36.46806, 33.795, 33.57722, 34.10417, 35.08861, 34.9725, 35.37917, 35.81861, 34.15528]\n",
      "[44.41972, 44.66722, 46.10694, 44.75278, 45.05444, 45.70861, 45.2, 45.33861, 45.955306, 45.13361, 44.94806, 45.02917, 44.85139, 45.04889, 45.42361, 44.49944]\n"
     ]
    }
   ],
   "source": [
    "print(data)\n",
    "longitude = []\n",
    "latitude = []\n",
    "\n",
    "for item in data:\n",
    "    longitude.append(float(item['coords']['lon']))\n",
    "    latitude.append(float(item['coords']['lat']))\n",
    "    \n",
    "print(longitude)\n",
    "print(latitude)"
   ]
  },
  {
   "cell_type": "code",
   "execution_count": 31,
   "metadata": {},
   "outputs": [
    {
     "data": {
      "text/html": [
       "<iframe src=\"data:text/html;base64,PGhlYWQ+CiAgICA8c2NyaXB0IHNyYz0iaHR0cHM6Ly9jZG5qcy5jbG91ZGZsYXJlLmNvbS9hamF4L2xpYnMvbGVhZmxldC8wLjcuMy9sZWFmbGV0LmpzIj48L3NjcmlwdD4KICAgIDxsaW5rIHJlbD0ic3R5bGVzaGVldCIgaHJlZj0iaHR0cHM6Ly9jZG5qcy5jbG91ZGZsYXJlLmNvbS9hamF4L2xpYnMvbGVhZmxldC8wLjcuMy9sZWFmbGV0LmNzcyIgLz4KICA8c3R5bGU+CiAgICAjbWFwN2U4YjE1NjIwOWY1NDQwZGE0NDFiZmI1MWJmNzAyMjMgewogICAgICBoZWlnaHQ6MTAwJTsKICAgIH0KICA8L3N0eWxlPiAKPC9oZWFkPgo8Ym9keT4KICA8ZGl2IGlkPSJtYXA3ZThiMTU2MjA5ZjU0NDBkYTQ0MWJmYjUxYmY3MDIyMyI+PC9kaXY+CjxzY3JpcHQgdGV4dD0idGV4dC9qYXZhc2NyaXB0Ij4KdmFyIG1hcCA9IEwubWFwKCdtYXA3ZThiMTU2MjA5ZjU0NDBkYTQ0MWJmYjUxYmY3MDIyMycpOwpMLnRpbGVMYXllcigKICAiaHR0cDovL3tzfS50aWxlLm9wZW5zdHJlZXRtYXAub3JnL3t6fS97eH0ve3l9LnBuZyIsCiAge21heFpvb206MTksIGF0dHJpYnV0aW9uOiAnPGEgaHJlZj0iaHR0cHM6Ly9naXRodWIuY29tL2p3YXNzL21wbGxlYWZsZXQiPm1wbGxlYWZsZXQ8L2E+IHwgTWFwIGRhdGEgKGMpIDxhIGhyZWY9Imh0dHA6Ly9vcGVuc3RyZWV0bWFwLm9yZyI+T3BlblN0cmVldE1hcDwvYT4gY29udHJpYnV0b3JzJ30pLmFkZFRvKG1hcCk7CnZhciBnakRhdGEgPSB7InR5cGUiOiAiRmVhdHVyZUNvbGxlY3Rpb24iLCAiZmVhdHVyZXMiOiBbeyJ0eXBlIjogIkZlYXR1cmUiLCAiZ2VvbWV0cnkiOiB7InR5cGUiOiAiUG9pbnQiLCAiY29vcmRpbmF0ZXMiOiBbMzQuMDQzMDYsIDQ0LjQxOTcyXX0sICJwcm9wZXJ0aWVzIjogeyJodG1sIjogIjxzdmcgd2lkdGg9XCI4cHhcIiBoZWlnaHQ9XCI4cHhcIiB2aWV3Qm94PVwiLTQuMCAtNC4wIDguMCA4LjBcIiB4bWxucz1cImh0dHA6Ly93d3cudzMub3JnLzIwMDAvc3ZnXCIgdmVyc2lvbj1cIjEuMVwiPiAgPHBhdGggZD1cIk0gLTMuMCAtMy4wIEwgMy4wIC0zLjAgTCAzLjAgMy4wIEwgLTMuMCAzLjAgWlwiIHN0cm9rZT1cIiNGRjAwMDBcIiBzdHJva2Utd2lkdGg9XCIxLjBcIiBzdHJva2Utb3BhY2l0eT1cIjFcIiBmaWxsPVwiI0ZGMDAwMFwiIGZpbGwtb3BhY2l0eT1cIjFcIiAvPjwvc3ZnPiIsICJhbmNob3JfeCI6IDQuMCwgImFuY2hvcl95IjogNC4wfX0sIHsidHlwZSI6ICJGZWF0dXJlIiwgImdlb21ldHJ5IjogeyJ0eXBlIjogIlBvaW50IiwgImNvb3JkaW5hdGVzIjogWzM0LjM5Nzc4LCA0NC42NjcyMl19LCAicHJvcGVydGllcyI6IHsiaHRtbCI6ICI8c3ZnIHdpZHRoPVwiOHB4XCIgaGVpZ2h0PVwiOHB4XCIgdmlld0JveD1cIi00LjAgLTQuMCA4LjAgOC4wXCIgeG1sbnM9XCJodHRwOi8vd3d3LnczLm9yZy8yMDAwL3N2Z1wiIHZlcnNpb249XCIxLjFcIj4gIDxwYXRoIGQ9XCJNIC0zLjAgLTMuMCBMIDMuMCAtMy4wIEwgMy4wIDMuMCBMIC0zLjAgMy4wIFpcIiBzdHJva2U9XCIjRkYwMDAwXCIgc3Ryb2tlLXdpZHRoPVwiMS4wXCIgc3Ryb2tlLW9wYWNpdHk9XCIxXCIgZmlsbD1cIiNGRjAwMDBcIiBmaWxsLW9wYWNpdHk9XCIxXCIgLz48L3N2Zz4iLCAiYW5jaG9yX3giOiA0LjAsICJhbmNob3JfeSI6IDQuMH19LCB7InR5cGUiOiAiRmVhdHVyZSIsICJnZW9tZXRyeSI6IHsidHlwZSI6ICJQb2ludCIsICJjb29yZGluYXRlcyI6IFszMy42OTMwNiwgNDYuMTA2OTRdfSwgInByb3BlcnRpZXMiOiB7Imh0bWwiOiAiPHN2ZyB3aWR0aD1cIjhweFwiIGhlaWdodD1cIjhweFwiIHZpZXdCb3g9XCItNC4wIC00LjAgOC4wIDguMFwiIHhtbG5zPVwiaHR0cDovL3d3dy53My5vcmcvMjAwMC9zdmdcIiB2ZXJzaW9uPVwiMS4xXCI+ICA8cGF0aCBkPVwiTSAtMy4wIC0zLjAgTCAzLjAgLTMuMCBMIDMuMCAzLjAgTCAtMy4wIDMuMCBaXCIgc3Ryb2tlPVwiI0ZGMDAwMFwiIHN0cm9rZS13aWR0aD1cIjEuMFwiIHN0cm9rZS1vcGFjaXR5PVwiMVwiIGZpbGw9XCIjRkYwMDAwXCIgZmlsbC1vcGFjaXR5PVwiMVwiIC8+PC9zdmc+IiwgImFuY2hvcl94IjogNC4wLCAiYW5jaG9yX3kiOiA0LjB9fSwgeyJ0eXBlIjogIkZlYXR1cmUiLCAiZ2VvbWV0cnkiOiB7InR5cGUiOiAiUG9pbnQiLCAiY29vcmRpbmF0ZXMiOiBbMzMuODYwODMsIDQ0Ljc1Mjc4XX0sICJwcm9wZXJ0aWVzIjogeyJodG1sIjogIjxzdmcgd2lkdGg9XCI4cHhcIiBoZWlnaHQ9XCI4cHhcIiB2aWV3Qm94PVwiLTQuMCAtNC4wIDguMCA4LjBcIiB4bWxucz1cImh0dHA6Ly93d3cudzMub3JnLzIwMDAvc3ZnXCIgdmVyc2lvbj1cIjEuMVwiPiAgPHBhdGggZD1cIk0gLTMuMCAtMy4wIEwgMy4wIC0zLjAgTCAzLjAgMy4wIEwgLTMuMCAzLjAgWlwiIHN0cm9rZT1cIiNGRjAwMDBcIiBzdHJva2Utd2lkdGg9XCIxLjBcIiBzdHJva2Utb3BhY2l0eT1cIjFcIiBmaWxsPVwiI0ZGMDAwMFwiIGZpbGwtb3BhY2l0eT1cIjFcIiAvPjwvc3ZnPiIsICJhbmNob3JfeCI6IDQuMCwgImFuY2hvcl95IjogNC4wfX0sIHsidHlwZSI6ICJGZWF0dXJlIiwgImdlb21ldHJ5IjogeyJ0eXBlIjogIlBvaW50IiwgImNvb3JkaW5hdGVzIjogWzM0LjYwMjIyLCA0NS4wNTQ0NF19LCAicHJvcGVydGllcyI6IHsiaHRtbCI6ICI8c3ZnIHdpZHRoPVwiOHB4XCIgaGVpZ2h0PVwiOHB4XCIgdmlld0JveD1cIi00LjAgLTQuMCA4LjAgOC4wXCIgeG1sbnM9XCJodHRwOi8vd3d3LnczLm9yZy8yMDAwL3N2Z1wiIHZlcnNpb249XCIxLjFcIj4gIDxwYXRoIGQ9XCJNIC0zLjAgLTMuMCBMIDMuMCAtMy4wIEwgMy4wIDMuMCBMIC0zLjAgMy4wIFpcIiBzdHJva2U9XCIjRkYwMDAwXCIgc3Ryb2tlLXdpZHRoPVwiMS4wXCIgc3Ryb2tlLW9wYWNpdHk9XCIxXCIgZmlsbD1cIiNGRjAwMDBcIiBmaWxsLW9wYWNpdHk9XCIxXCIgLz48L3N2Zz4iLCAiYW5jaG9yX3giOiA0LjAsICJhbmNob3JfeSI6IDQuMH19LCB7InR5cGUiOiAiRmVhdHVyZSIsICJnZW9tZXRyeSI6IHsidHlwZSI6ICJQb2ludCIsICJjb29yZGluYXRlcyI6IFszNC4zOTMzMywgNDUuNzA4NjFdfSwgInByb3BlcnRpZXMiOiB7Imh0bWwiOiAiPHN2ZyB3aWR0aD1cIjhweFwiIGhlaWdodD1cIjhweFwiIHZpZXdCb3g9XCItNC4wIC00LjAgOC4wIDguMFwiIHhtbG5zPVwiaHR0cDovL3d3dy53My5vcmcvMjAwMC9zdmdcIiB2ZXJzaW9uPVwiMS4xXCI+ICA8cGF0aCBkPVwiTSAtMy4wIC0zLjAgTCAzLjAgLTMuMCBMIDMuMCAzLjAgTCAtMy4wIDMuMCBaXCIgc3Ryb2tlPVwiI0ZGMDAwMFwiIHN0cm9rZS13aWR0aD1cIjEuMFwiIHN0cm9rZS1vcGFjaXR5PVwiMVwiIGZpbGw9XCIjRkYwMDAwXCIgZmlsbC1vcGFjaXR5PVwiMVwiIC8+PC9zdmc+IiwgImFuY2hvcl94IjogNC4wLCAiYW5jaG9yX3kiOiA0LjB9fSwgeyJ0eXBlIjogIkZlYXR1cmUiLCAiZ2VvbWV0cnkiOiB7InR5cGUiOiAiUG9pbnQiLCAiY29vcmRpbmF0ZXMiOiBbMzMuMzU4MzMsIDQ1LjJdfSwgInByb3BlcnRpZXMiOiB7Imh0bWwiOiAiPHN2ZyB3aWR0aD1cIjhweFwiIGhlaWdodD1cIjhweFwiIHZpZXdCb3g9XCItNC4wIC00LjAgOC4wIDguMFwiIHhtbG5zPVwiaHR0cDovL3d3dy53My5vcmcvMjAwMC9zdmdcIiB2ZXJzaW9uPVwiMS4xXCI+ICA8cGF0aCBkPVwiTSAtMy4wIC0zLjAgTCAzLjAgLTMuMCBMIDMuMCAzLjAgTCAtMy4wIDMuMCBaXCIgc3Ryb2tlPVwiI0ZGMDAwMFwiIHN0cm9rZS13aWR0aD1cIjEuMFwiIHN0cm9rZS1vcGFjaXR5PVwiMVwiIGZpbGw9XCIjRkYwMDAwXCIgZmlsbC1vcGFjaXR5PVwiMVwiIC8+PC9zdmc+IiwgImFuY2hvcl94IjogNC4wLCAiYW5jaG9yX3kiOiA0LjB9fSwgeyJ0eXBlIjogIkZlYXR1cmUiLCAiZ2VvbWV0cnkiOiB7InR5cGUiOiAiUG9pbnQiLCAiY29vcmRpbmF0ZXMiOiBbMzYuNDY4MDYsIDQ1LjMzODYxXX0sICJwcm9wZXJ0aWVzIjogeyJodG1sIjogIjxzdmcgd2lkdGg9XCI4cHhcIiBoZWlnaHQ9XCI4cHhcIiB2aWV3Qm94PVwiLTQuMCAtNC4wIDguMCA4LjBcIiB4bWxucz1cImh0dHA6Ly93d3cudzMub3JnLzIwMDAvc3ZnXCIgdmVyc2lvbj1cIjEuMVwiPiAgPHBhdGggZD1cIk0gLTMuMCAtMy4wIEwgMy4wIC0zLjAgTCAzLjAgMy4wIEwgLTMuMCAzLjAgWlwiIHN0cm9rZT1cIiNGRjAwMDBcIiBzdHJva2Utd2lkdGg9XCIxLjBcIiBzdHJva2Utb3BhY2l0eT1cIjFcIiBmaWxsPVwiI0ZGMDAwMFwiIGZpbGwtb3BhY2l0eT1cIjFcIiAvPjwvc3ZnPiIsICJhbmNob3JfeCI6IDQuMCwgImFuY2hvcl95IjogNC4wfX0sIHsidHlwZSI6ICJGZWF0dXJlIiwgImdlb21ldHJ5IjogeyJ0eXBlIjogIlBvaW50IiwgImNvb3JkaW5hdGVzIjogWzMzLjc5NSwgNDUuOTU1MzA2XX0sICJwcm9wZXJ0aWVzIjogeyJodG1sIjogIjxzdmcgd2lkdGg9XCI4cHhcIiBoZWlnaHQ9XCI4cHhcIiB2aWV3Qm94PVwiLTQuMCAtNC4wIDguMCA4LjBcIiB4bWxucz1cImh0dHA6Ly93d3cudzMub3JnLzIwMDAvc3ZnXCIgdmVyc2lvbj1cIjEuMVwiPiAgPHBhdGggZD1cIk0gLTMuMCAtMy4wIEwgMy4wIC0zLjAgTCAzLjAgMy4wIEwgLTMuMCAzLjAgWlwiIHN0cm9rZT1cIiNGRjAwMDBcIiBzdHJva2Utd2lkdGg9XCIxLjBcIiBzdHJva2Utb3BhY2l0eT1cIjFcIiBmaWxsPVwiI0ZGMDAwMFwiIGZpbGwtb3BhY2l0eT1cIjFcIiAvPjwvc3ZnPiIsICJhbmNob3JfeCI6IDQuMCwgImFuY2hvcl95IjogNC4wfX0sIHsidHlwZSI6ICJGZWF0dXJlIiwgImdlb21ldHJ5IjogeyJ0eXBlIjogIlBvaW50IiwgImNvb3JkaW5hdGVzIjogWzMzLjU3NzIyLCA0NS4xMzM2MV19LCAicHJvcGVydGllcyI6IHsiaHRtbCI6ICI8c3ZnIHdpZHRoPVwiOHB4XCIgaGVpZ2h0PVwiOHB4XCIgdmlld0JveD1cIi00LjAgLTQuMCA4LjAgOC4wXCIgeG1sbnM9XCJodHRwOi8vd3d3LnczLm9yZy8yMDAwL3N2Z1wiIHZlcnNpb249XCIxLjFcIj4gIDxwYXRoIGQ9XCJNIC0zLjAgLTMuMCBMIDMuMCAtMy4wIEwgMy4wIDMuMCBMIC0zLjAgMy4wIFpcIiBzdHJva2U9XCIjRkYwMDAwXCIgc3Ryb2tlLXdpZHRoPVwiMS4wXCIgc3Ryb2tlLW9wYWNpdHk9XCIxXCIgZmlsbD1cIiNGRjAwMDBcIiBmaWxsLW9wYWNpdHk9XCIxXCIgLz48L3N2Zz4iLCAiYW5jaG9yX3giOiA0LjAsICJhbmNob3JfeSI6IDQuMH19LCB7InR5cGUiOiAiRmVhdHVyZSIsICJnZW9tZXRyeSI6IHsidHlwZSI6ICJQb2ludCIsICJjb29yZGluYXRlcyI6IFszNC4xMDQxNywgNDQuOTQ4MDZdfSwgInByb3BlcnRpZXMiOiB7Imh0bWwiOiAiPHN2ZyB3aWR0aD1cIjhweFwiIGhlaWdodD1cIjhweFwiIHZpZXdCb3g9XCItNC4wIC00LjAgOC4wIDguMFwiIHhtbG5zPVwiaHR0cDovL3d3dy53My5vcmcvMjAwMC9zdmdcIiB2ZXJzaW9uPVwiMS4xXCI+ICA8cGF0aCBkPVwiTSAtMy4wIC0zLjAgTCAzLjAgLTMuMCBMIDMuMCAzLjAgTCAtMy4wIDMuMCBaXCIgc3Ryb2tlPVwiI0ZGMDAwMFwiIHN0cm9rZS13aWR0aD1cIjEuMFwiIHN0cm9rZS1vcGFjaXR5PVwiMVwiIGZpbGw9XCIjRkYwMDAwXCIgZmlsbC1vcGFjaXR5PVwiMVwiIC8+PC9zdmc+IiwgImFuY2hvcl94IjogNC4wLCAiYW5jaG9yX3kiOiA0LjB9fSwgeyJ0eXBlIjogIkZlYXR1cmUiLCAiZ2VvbWV0cnkiOiB7InR5cGUiOiAiUG9pbnQiLCAiY29vcmRpbmF0ZXMiOiBbMzUuMDg4NjEsIDQ1LjAyOTE3XX0sICJwcm9wZXJ0aWVzIjogeyJodG1sIjogIjxzdmcgd2lkdGg9XCI4cHhcIiBoZWlnaHQ9XCI4cHhcIiB2aWV3Qm94PVwiLTQuMCAtNC4wIDguMCA4LjBcIiB4bWxucz1cImh0dHA6Ly93d3cudzMub3JnLzIwMDAvc3ZnXCIgdmVyc2lvbj1cIjEuMVwiPiAgPHBhdGggZD1cIk0gLTMuMCAtMy4wIEwgMy4wIC0zLjAgTCAzLjAgMy4wIEwgLTMuMCAzLjAgWlwiIHN0cm9rZT1cIiNGRjAwMDBcIiBzdHJva2Utd2lkdGg9XCIxLjBcIiBzdHJva2Utb3BhY2l0eT1cIjFcIiBmaWxsPVwiI0ZGMDAwMFwiIGZpbGwtb3BhY2l0eT1cIjFcIiAvPjwvc3ZnPiIsICJhbmNob3JfeCI6IDQuMCwgImFuY2hvcl95IjogNC4wfX0sIHsidHlwZSI6ICJGZWF0dXJlIiwgImdlb21ldHJ5IjogeyJ0eXBlIjogIlBvaW50IiwgImNvb3JkaW5hdGVzIjogWzM0Ljk3MjUsIDQ0Ljg1MTM5XX0sICJwcm9wZXJ0aWVzIjogeyJodG1sIjogIjxzdmcgd2lkdGg9XCI4cHhcIiBoZWlnaHQ9XCI4cHhcIiB2aWV3Qm94PVwiLTQuMCAtNC4wIDguMCA4LjBcIiB4bWxucz1cImh0dHA6Ly93d3cudzMub3JnLzIwMDAvc3ZnXCIgdmVyc2lvbj1cIjEuMVwiPiAgPHBhdGggZD1cIk0gLTMuMCAtMy4wIEwgMy4wIC0zLjAgTCAzLjAgMy4wIEwgLTMuMCAzLjAgWlwiIHN0cm9rZT1cIiNGRjAwMDBcIiBzdHJva2Utd2lkdGg9XCIxLjBcIiBzdHJva2Utb3BhY2l0eT1cIjFcIiBmaWxsPVwiI0ZGMDAwMFwiIGZpbGwtb3BhY2l0eT1cIjFcIiAvPjwvc3ZnPiIsICJhbmNob3JfeCI6IDQuMCwgImFuY2hvcl95IjogNC4wfX0sIHsidHlwZSI6ICJGZWF0dXJlIiwgImdlb21ldHJ5IjogeyJ0eXBlIjogIlBvaW50IiwgImNvb3JkaW5hdGVzIjogWzM1LjM3OTE3LCA0NS4wNDg4OV19LCAicHJvcGVydGllcyI6IHsiaHRtbCI6ICI8c3ZnIHdpZHRoPVwiOHB4XCIgaGVpZ2h0PVwiOHB4XCIgdmlld0JveD1cIi00LjAgLTQuMCA4LjAgOC4wXCIgeG1sbnM9XCJodHRwOi8vd3d3LnczLm9yZy8yMDAwL3N2Z1wiIHZlcnNpb249XCIxLjFcIj4gIDxwYXRoIGQ9XCJNIC0zLjAgLTMuMCBMIDMuMCAtMy4wIEwgMy4wIDMuMCBMIC0zLjAgMy4wIFpcIiBzdHJva2U9XCIjRkYwMDAwXCIgc3Ryb2tlLXdpZHRoPVwiMS4wXCIgc3Ryb2tlLW9wYWNpdHk9XCIxXCIgZmlsbD1cIiNGRjAwMDBcIiBmaWxsLW9wYWNpdHk9XCIxXCIgLz48L3N2Zz4iLCAiYW5jaG9yX3giOiA0LjAsICJhbmNob3JfeSI6IDQuMH19LCB7InR5cGUiOiAiRmVhdHVyZSIsICJnZW9tZXRyeSI6IHsidHlwZSI6ICJQb2ludCIsICJjb29yZGluYXRlcyI6IFszNS44MTg2MSwgNDUuNDIzNjFdfSwgInByb3BlcnRpZXMiOiB7Imh0bWwiOiAiPHN2ZyB3aWR0aD1cIjhweFwiIGhlaWdodD1cIjhweFwiIHZpZXdCb3g9XCItNC4wIC00LjAgOC4wIDguMFwiIHhtbG5zPVwiaHR0cDovL3d3dy53My5vcmcvMjAwMC9zdmdcIiB2ZXJzaW9uPVwiMS4xXCI+ICA8cGF0aCBkPVwiTSAtMy4wIC0zLjAgTCAzLjAgLTMuMCBMIDMuMCAzLjAgTCAtMy4wIDMuMCBaXCIgc3Ryb2tlPVwiI0ZGMDAwMFwiIHN0cm9rZS13aWR0aD1cIjEuMFwiIHN0cm9rZS1vcGFjaXR5PVwiMVwiIGZpbGw9XCIjRkYwMDAwXCIgZmlsbC1vcGFjaXR5PVwiMVwiIC8+PC9zdmc+IiwgImFuY2hvcl94IjogNC4wLCAiYW5jaG9yX3kiOiA0LjB9fSwgeyJ0eXBlIjogIkZlYXR1cmUiLCAiZ2VvbWV0cnkiOiB7InR5cGUiOiAiUG9pbnQiLCAiY29vcmRpbmF0ZXMiOiBbMzQuMTU1MjgsIDQ0LjQ5OTQ0XX0sICJwcm9wZXJ0aWVzIjogeyJodG1sIjogIjxzdmcgd2lkdGg9XCI4cHhcIiBoZWlnaHQ9XCI4cHhcIiB2aWV3Qm94PVwiLTQuMCAtNC4wIDguMCA4LjBcIiB4bWxucz1cImh0dHA6Ly93d3cudzMub3JnLzIwMDAvc3ZnXCIgdmVyc2lvbj1cIjEuMVwiPiAgPHBhdGggZD1cIk0gLTMuMCAtMy4wIEwgMy4wIC0zLjAgTCAzLjAgMy4wIEwgLTMuMCAzLjAgWlwiIHN0cm9rZT1cIiNGRjAwMDBcIiBzdHJva2Utd2lkdGg9XCIxLjBcIiBzdHJva2Utb3BhY2l0eT1cIjFcIiBmaWxsPVwiI0ZGMDAwMFwiIGZpbGwtb3BhY2l0eT1cIjFcIiAvPjwvc3ZnPiIsICJhbmNob3JfeCI6IDQuMCwgImFuY2hvcl95IjogNC4wfX1dfTsKCmlmIChnakRhdGEuZmVhdHVyZXMubGVuZ3RoICE9IDApIHsKICB2YXIgZ2ogPSBMLmdlb0pzb24oZ2pEYXRhLCB7CiAgICBzdHlsZTogZnVuY3Rpb24gKGZlYXR1cmUpIHsKICAgICAgcmV0dXJuIGZlYXR1cmUucHJvcGVydGllczsKICAgIH0sCiAgICBwb2ludFRvTGF5ZXI6IGZ1bmN0aW9uIChmZWF0dXJlLCBsYXRsbmcpIHsKICAgICAgdmFyIGljb24gPSBMLmRpdkljb24oeydodG1sJzogZmVhdHVyZS5wcm9wZXJ0aWVzLmh0bWwsIAogICAgICAgIGljb25BbmNob3I6IFtmZWF0dXJlLnByb3BlcnRpZXMuYW5jaG9yX3gsIAogICAgICAgICAgICAgICAgICAgICBmZWF0dXJlLnByb3BlcnRpZXMuYW5jaG9yX3ldLCAKICAgICAgICAgIGNsYXNzTmFtZTogJ2VtcHR5J30pOyAgLy8gV2hhdCBjYW4gSSBkbyBhYm91dCBlbXB0eT8KICAgICAgcmV0dXJuIEwubWFya2VyKGxhdGxuZywge2ljb246IGljb259KTsKICAgIH0KICB9KTsKICBnai5hZGRUbyhtYXApOwogIAogIG1hcC5maXRCb3VuZHMoZ2ouZ2V0Qm91bmRzKCkpOwp9IGVsc2UgewogIG1hcC5zZXRWaWV3KFswLCAwXSwgMSk7Cn0KPC9zY3JpcHQ+CjwvYm9keT4=\" width=\"100%\" height=\"600\"></iframe>"
      ],
      "text/plain": [
       "<IPython.core.display.HTML object>"
      ]
     },
     "execution_count": 31,
     "metadata": {},
     "output_type": "execute_result"
    }
   ],
   "source": [
    "import matplotlib.pyplot as plt\n",
    "\n",
    "plt.figure(figsize=(20,10))\n",
    "           \n",
    "plt.plot(longitude, latitude,  'rs')\n",
    "\n",
    "import mplleaflet\n",
    "\n",
    "mplleaflet.display()"
   ]
  },
  {
   "cell_type": "markdown",
   "metadata": {},
   "source": [
    "### Task 1.7* Дополнительное\n",
    "\n",
    "- На карте сделать подписи к точкам с названием города\n",
    "- Сделать визуально обозначение точек - кругов, соответсвующих значениям населения похожим образом\n",
    "https://matplotlib.org/3.1.1/gallery/lines_bars_and_markers/scatter_masked.html#sphx-glr-gallery-lines-bars-and-markers-scatter-masked-py\n",
    "\n"
   ]
  },
  {
   "cell_type": "code",
   "execution_count": null,
   "metadata": {},
   "outputs": [],
   "source": []
  }
 ],
 "metadata": {
  "kernelspec": {
   "display_name": "Python 3",
   "language": "python",
   "name": "python3"
  },
  "language_info": {
   "codemirror_mode": {
    "name": "ipython",
    "version": 3
   },
   "file_extension": ".py",
   "mimetype": "text/x-python",
   "name": "python",
   "nbconvert_exporter": "python",
   "pygments_lexer": "ipython3",
   "version": "3.7.4"
  }
 },
 "nbformat": 4,
 "nbformat_minor": 2
}
